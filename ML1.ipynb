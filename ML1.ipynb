{
 "cells": [
  {
   "cell_type": "code",
   "execution_count": 6,
   "metadata": {},
   "outputs": [],
   "source": [
    "import cv2 \n",
    "import numpy as np\n",
    "import pandas as pd\n",
    "import torch\n",
    "from sklearn.feature_extraction.text import TfidfVectorizer\n",
    "# from nltk.tokenize import sent_tokenize, word_tokenize"
   ]
  },
  {
   "cell_type": "code",
   "execution_count": 4,
   "metadata": {},
   "outputs": [
    {
     "data": {
      "text/html": [
       "<div>\n",
       "<style scoped>\n",
       "    .dataframe tbody tr th:only-of-type {\n",
       "        vertical-align: middle;\n",
       "    }\n",
       "\n",
       "    .dataframe tbody tr th {\n",
       "        vertical-align: top;\n",
       "    }\n",
       "\n",
       "    .dataframe thead th {\n",
       "        text-align: right;\n",
       "    }\n",
       "</style>\n",
       "<table border=\"1\" class=\"dataframe\">\n",
       "  <thead>\n",
       "    <tr style=\"text-align: right;\">\n",
       "      <th></th>\n",
       "      <th>documentid</th>\n",
       "      <th>paymentid</th>\n",
       "      <th>amount</th>\n",
       "      <th>date</th>\n",
       "      <th>vendor_name</th>\n",
       "      <th>vendor_address</th>\n",
       "    </tr>\n",
       "  </thead>\n",
       "  <tbody>\n",
       "    <tr>\n",
       "      <th>0</th>\n",
       "      <td>00d0624439175</td>\n",
       "      <td>00p0535380313</td>\n",
       "      <td>72.90</td>\n",
       "      <td>2916-4-17</td>\n",
       "      <td>MR. D.I.Y. (KUCHZAI) SDNBHD</td>\n",
       "      <td>LOT 1851-A &amp; 1851-B, JALAN KPB 6, KAWASAN PERI...</td>\n",
       "    </tr>\n",
       "    <tr>\n",
       "      <th>1</th>\n",
       "      <td>00d0654270874</td>\n",
       "      <td>00p0432205035</td>\n",
       "      <td>43.90</td>\n",
       "      <td>2016-6-7</td>\n",
       "      <td>FOUR QUARTERS SDN BHD</td>\n",
       "      <td>NO.28G JLN SS21/35 DAMANSARA UTAMA PETALING JA...</td>\n",
       "    </tr>\n",
       "    <tr>\n",
       "      <th>2</th>\n",
       "      <td>00d0403711886</td>\n",
       "      <td>00p0174820163</td>\n",
       "      <td>32.23</td>\n",
       "      <td>2018-10-1</td>\n",
       "      <td>SYARIKAT PERNIAGAAN GIJ KEE</td>\n",
       "      <td>NO 290, JALAN AIR PANAS, SETAPAK, 53020, KUALA...</td>\n",
       "    </tr>\n",
       "    <tr>\n",
       "      <th>3</th>\n",
       "      <td>00d0956164753</td>\n",
       "      <td>00p0943784617</td>\n",
       "      <td>503.10</td>\n",
       "      <td>2018-3-23</td>\n",
       "      <td>TIMELESS KITCHENETE SDN BHD</td>\n",
       "      <td>LLT 50, FLOOR T2,SKY AVENUE GENTING HIGHLANDS ...</td>\n",
       "    </tr>\n",
       "    <tr>\n",
       "      <th>4</th>\n",
       "      <td>00d0667839698</td>\n",
       "      <td>00p0762437501</td>\n",
       "      <td>1110.00</td>\n",
       "      <td>2016-2-28</td>\n",
       "      <td>SIN THEY &amp; COMPANY</td>\n",
       "      <td>NO.54, BATU 5,JALAN IPOH, KG.BATU, 5110 KUALA ...</td>\n",
       "    </tr>\n",
       "    <tr>\n",
       "      <th>...</th>\n",
       "      <td>...</td>\n",
       "      <td>...</td>\n",
       "      <td>...</td>\n",
       "      <td>...</td>\n",
       "      <td>...</td>\n",
       "      <td>...</td>\n",
       "    </tr>\n",
       "    <tr>\n",
       "      <th>494</th>\n",
       "      <td>00d0223498663</td>\n",
       "      <td>00p0611347643</td>\n",
       "      <td>29.30</td>\n",
       "      <td>2016-12-25</td>\n",
       "      <td>GOLDEN ARCHES RESTAURANTS SDN BHD</td>\n",
       "      <td>LEVEL 6, BANGUNAN TH, DAMANSARA UPTOWN3 NO.3, ...</td>\n",
       "    </tr>\n",
       "    <tr>\n",
       "      <th>495</th>\n",
       "      <td>00d0206227401</td>\n",
       "      <td>00p0603265655</td>\n",
       "      <td>8.70</td>\n",
       "      <td>2017-8-7</td>\n",
       "      <td>SANYU STATIONERY SHOP</td>\n",
       "      <td>NO. 31G&amp;3G, JALAN SETIA INDAH X ,U13/X 40170 S...</td>\n",
       "    </tr>\n",
       "    <tr>\n",
       "      <th>496</th>\n",
       "      <td>00d0898930568</td>\n",
       "      <td>00p0751192439</td>\n",
       "      <td>2.50</td>\n",
       "      <td>2018-1-24</td>\n",
       "      <td>99 SPEED MART S/B</td>\n",
       "      <td>LOT P.T. 281 1, JALAN ANGSA, TAMAN BERKELEY 41...</td>\n",
       "    </tr>\n",
       "    <tr>\n",
       "      <th>497</th>\n",
       "      <td>00d0397644256</td>\n",
       "      <td>00p0962484273</td>\n",
       "      <td>63.80</td>\n",
       "      <td>2018-2-22</td>\n",
       "      <td>BILLION SIX ENTERPRISE</td>\n",
       "      <td>NO 3, JALAN TAMAN JAS'A 2; . SECTION U6, 40150...</td>\n",
       "    </tr>\n",
       "    <tr>\n",
       "      <th>498</th>\n",
       "      <td>00d0692152542</td>\n",
       "      <td>00p0804207368</td>\n",
       "      <td>5.88</td>\n",
       "      <td>2017-5-24</td>\n",
       "      <td>SABNYU STATIONERY SHOP</td>\n",
       "      <td>NO. 31G&amp;33G, JALAN SETIA INDAH X ,UU13/X 4170 ...</td>\n",
       "    </tr>\n",
       "  </tbody>\n",
       "</table>\n",
       "<p>499 rows × 6 columns</p>\n",
       "</div>"
      ],
      "text/plain": [
       "        documentid      paymentid   amount        date  \\\n",
       "0    00d0624439175  00p0535380313    72.90   2916-4-17   \n",
       "1    00d0654270874  00p0432205035    43.90    2016-6-7   \n",
       "2    00d0403711886  00p0174820163    32.23   2018-10-1   \n",
       "3    00d0956164753  00p0943784617   503.10   2018-3-23   \n",
       "4    00d0667839698  00p0762437501  1110.00   2016-2-28   \n",
       "..             ...            ...      ...         ...   \n",
       "494  00d0223498663  00p0611347643    29.30  2016-12-25   \n",
       "495  00d0206227401  00p0603265655     8.70    2017-8-7   \n",
       "496  00d0898930568  00p0751192439     2.50   2018-1-24   \n",
       "497  00d0397644256  00p0962484273    63.80   2018-2-22   \n",
       "498  00d0692152542  00p0804207368     5.88   2017-5-24   \n",
       "\n",
       "                           vendor_name  \\\n",
       "0          MR. D.I.Y. (KUCHZAI) SDNBHD   \n",
       "1                FOUR QUARTERS SDN BHD   \n",
       "2          SYARIKAT PERNIAGAAN GIJ KEE   \n",
       "3          TIMELESS KITCHENETE SDN BHD   \n",
       "4                   SIN THEY & COMPANY   \n",
       "..                                 ...   \n",
       "494  GOLDEN ARCHES RESTAURANTS SDN BHD   \n",
       "495              SANYU STATIONERY SHOP   \n",
       "496                  99 SPEED MART S/B   \n",
       "497             BILLION SIX ENTERPRISE   \n",
       "498             SABNYU STATIONERY SHOP   \n",
       "\n",
       "                                        vendor_address  \n",
       "0    LOT 1851-A & 1851-B, JALAN KPB 6, KAWASAN PERI...  \n",
       "1    NO.28G JLN SS21/35 DAMANSARA UTAMA PETALING JA...  \n",
       "2    NO 290, JALAN AIR PANAS, SETAPAK, 53020, KUALA...  \n",
       "3    LLT 50, FLOOR T2,SKY AVENUE GENTING HIGHLANDS ...  \n",
       "4    NO.54, BATU 5,JALAN IPOH, KG.BATU, 5110 KUALA ...  \n",
       "..                                                 ...  \n",
       "494  LEVEL 6, BANGUNAN TH, DAMANSARA UPTOWN3 NO.3, ...  \n",
       "495  NO. 31G&3G, JALAN SETIA INDAH X ,U13/X 40170 S...  \n",
       "496  LOT P.T. 281 1, JALAN ANGSA, TAMAN BERKELEY 41...  \n",
       "497  NO 3, JALAN TAMAN JAS'A 2; . SECTION U6, 40150...  \n",
       "498  NO. 31G&33G, JALAN SETIA INDAH X ,UU13/X 4170 ...  \n",
       "\n",
       "[499 rows x 6 columns]"
      ]
     },
     "execution_count": 4,
     "metadata": {},
     "output_type": "execute_result"
    }
   ],
   "source": [
    "userData = pd.read_csv('Bill.com/Users.csv')\n",
    "userData "
   ]
  },
  {
   "cell_type": "code",
   "execution_count": 14,
   "metadata": {},
   "outputs": [
    {
     "ename": "LookupError",
     "evalue": "\n**********************************************************************\n  Resource \u001b[93mpunkt\u001b[0m not found.\n  Please use the NLTK Downloader to obtain the resource:\n\n  \u001b[31m>>> import nltk\n  >>> nltk.download('punkt')\n  \u001b[0m\n  For more information see: https://www.nltk.org/data.html\n\n  Attempted to load \u001b[93mtokenizers/punkt/english.pickle\u001b[0m\n\n  Searched in:\n    - 'C:\\\\Users\\\\chara/nltk_data'\n    - 'C:\\\\Program Files\\\\WindowsApps\\\\PythonSoftwareFoundation.Python.3.10_3.10.2544.0_x64__qbz5n2kfra8p0\\\\nltk_data'\n    - 'C:\\\\Program Files\\\\WindowsApps\\\\PythonSoftwareFoundation.Python.3.10_3.10.2544.0_x64__qbz5n2kfra8p0\\\\share\\\\nltk_data'\n    - 'C:\\\\Program Files\\\\WindowsApps\\\\PythonSoftwareFoundation.Python.3.10_3.10.2544.0_x64__qbz5n2kfra8p0\\\\lib\\\\nltk_data'\n    - 'C:\\\\Users\\\\chara\\\\AppData\\\\Roaming\\\\nltk_data'\n    - 'C:\\\\nltk_data'\n    - 'D:\\\\nltk_data'\n    - 'E:\\\\nltk_data'\n    - ''\n**********************************************************************\n",
     "output_type": "error",
     "traceback": [
      "\u001b[1;31m---------------------------------------------------------------------------\u001b[0m",
      "\u001b[1;31mLookupError\u001b[0m                               Traceback (most recent call last)",
      "\u001b[1;32mc:\\Users\\chara\\OneDrive\\Documents\\receiptcheck\\ML1.ipynb Cell 3\u001b[0m in \u001b[0;36m<cell line: 2>\u001b[1;34m()\u001b[0m\n\u001b[0;32m      <a href='vscode-notebook-cell:/c%3A/Users/chara/OneDrive/Documents/receiptcheck/ML1.ipynb#W4sZmlsZQ%3D%3D?line=0'>1</a>\u001b[0m s \u001b[39m=\u001b[39m userData\u001b[39m.\u001b[39mloc[\u001b[39m1\u001b[39m, \u001b[39m'\u001b[39m\u001b[39mvendor_name\u001b[39m\u001b[39m'\u001b[39m]\n\u001b[1;32m----> <a href='vscode-notebook-cell:/c%3A/Users/chara/OneDrive/Documents/receiptcheck/ML1.ipynb#W4sZmlsZQ%3D%3D?line=1'>2</a>\u001b[0m word_tokenize(s)\n",
      "File \u001b[1;32m~\\AppData\\Local\\Packages\\PythonSoftwareFoundation.Python.3.10_qbz5n2kfra8p0\\LocalCache\\local-packages\\Python310\\site-packages\\nltk\\tokenize\\__init__.py:129\u001b[0m, in \u001b[0;36mword_tokenize\u001b[1;34m(text, language, preserve_line)\u001b[0m\n\u001b[0;32m    114\u001b[0m \u001b[39mdef\u001b[39;00m \u001b[39mword_tokenize\u001b[39m(text, language\u001b[39m=\u001b[39m\u001b[39m\"\u001b[39m\u001b[39menglish\u001b[39m\u001b[39m\"\u001b[39m, preserve_line\u001b[39m=\u001b[39m\u001b[39mFalse\u001b[39;00m):\n\u001b[0;32m    115\u001b[0m     \u001b[39m\"\"\"\u001b[39;00m\n\u001b[0;32m    116\u001b[0m \u001b[39m    Return a tokenized copy of *text*,\u001b[39;00m\n\u001b[0;32m    117\u001b[0m \u001b[39m    using NLTK's recommended word tokenizer\u001b[39;00m\n\u001b[1;32m   (...)\u001b[0m\n\u001b[0;32m    127\u001b[0m \u001b[39m    :type preserve_line: bool\u001b[39;00m\n\u001b[0;32m    128\u001b[0m \u001b[39m    \"\"\"\u001b[39;00m\n\u001b[1;32m--> 129\u001b[0m     sentences \u001b[39m=\u001b[39m [text] \u001b[39mif\u001b[39;00m preserve_line \u001b[39melse\u001b[39;00m sent_tokenize(text, language)\n\u001b[0;32m    130\u001b[0m     \u001b[39mreturn\u001b[39;00m [\n\u001b[0;32m    131\u001b[0m         token \u001b[39mfor\u001b[39;00m sent \u001b[39min\u001b[39;00m sentences \u001b[39mfor\u001b[39;00m token \u001b[39min\u001b[39;00m _treebank_word_tokenizer\u001b[39m.\u001b[39mtokenize(sent)\n\u001b[0;32m    132\u001b[0m     ]\n",
      "File \u001b[1;32m~\\AppData\\Local\\Packages\\PythonSoftwareFoundation.Python.3.10_qbz5n2kfra8p0\\LocalCache\\local-packages\\Python310\\site-packages\\nltk\\tokenize\\__init__.py:106\u001b[0m, in \u001b[0;36msent_tokenize\u001b[1;34m(text, language)\u001b[0m\n\u001b[0;32m     96\u001b[0m \u001b[39mdef\u001b[39;00m \u001b[39msent_tokenize\u001b[39m(text, language\u001b[39m=\u001b[39m\u001b[39m\"\u001b[39m\u001b[39menglish\u001b[39m\u001b[39m\"\u001b[39m):\n\u001b[0;32m     97\u001b[0m     \u001b[39m\"\"\"\u001b[39;00m\n\u001b[0;32m     98\u001b[0m \u001b[39m    Return a sentence-tokenized copy of *text*,\u001b[39;00m\n\u001b[0;32m     99\u001b[0m \u001b[39m    using NLTK's recommended sentence tokenizer\u001b[39;00m\n\u001b[1;32m   (...)\u001b[0m\n\u001b[0;32m    104\u001b[0m \u001b[39m    :param language: the model name in the Punkt corpus\u001b[39;00m\n\u001b[0;32m    105\u001b[0m \u001b[39m    \"\"\"\u001b[39;00m\n\u001b[1;32m--> 106\u001b[0m     tokenizer \u001b[39m=\u001b[39m load(\u001b[39mf\u001b[39;49m\u001b[39m\"\u001b[39;49m\u001b[39mtokenizers/punkt/\u001b[39;49m\u001b[39m{\u001b[39;49;00mlanguage\u001b[39m}\u001b[39;49;00m\u001b[39m.pickle\u001b[39;49m\u001b[39m\"\u001b[39;49m)\n\u001b[0;32m    107\u001b[0m     \u001b[39mreturn\u001b[39;00m tokenizer\u001b[39m.\u001b[39mtokenize(text)\n",
      "File \u001b[1;32m~\\AppData\\Local\\Packages\\PythonSoftwareFoundation.Python.3.10_qbz5n2kfra8p0\\LocalCache\\local-packages\\Python310\\site-packages\\nltk\\data.py:750\u001b[0m, in \u001b[0;36mload\u001b[1;34m(resource_url, format, cache, verbose, logic_parser, fstruct_reader, encoding)\u001b[0m\n\u001b[0;32m    747\u001b[0m     \u001b[39mprint\u001b[39m(\u001b[39mf\u001b[39m\u001b[39m\"\u001b[39m\u001b[39m<<Loading \u001b[39m\u001b[39m{\u001b[39;00mresource_url\u001b[39m}\u001b[39;00m\u001b[39m>>\u001b[39m\u001b[39m\"\u001b[39m)\n\u001b[0;32m    749\u001b[0m \u001b[39m# Load the resource.\u001b[39;00m\n\u001b[1;32m--> 750\u001b[0m opened_resource \u001b[39m=\u001b[39m _open(resource_url)\n\u001b[0;32m    752\u001b[0m \u001b[39mif\u001b[39;00m \u001b[39mformat\u001b[39m \u001b[39m==\u001b[39m \u001b[39m\"\u001b[39m\u001b[39mraw\u001b[39m\u001b[39m\"\u001b[39m:\n\u001b[0;32m    753\u001b[0m     resource_val \u001b[39m=\u001b[39m opened_resource\u001b[39m.\u001b[39mread()\n",
      "File \u001b[1;32m~\\AppData\\Local\\Packages\\PythonSoftwareFoundation.Python.3.10_qbz5n2kfra8p0\\LocalCache\\local-packages\\Python310\\site-packages\\nltk\\data.py:876\u001b[0m, in \u001b[0;36m_open\u001b[1;34m(resource_url)\u001b[0m\n\u001b[0;32m    873\u001b[0m protocol, path_ \u001b[39m=\u001b[39m split_resource_url(resource_url)\n\u001b[0;32m    875\u001b[0m \u001b[39mif\u001b[39;00m protocol \u001b[39mis\u001b[39;00m \u001b[39mNone\u001b[39;00m \u001b[39mor\u001b[39;00m protocol\u001b[39m.\u001b[39mlower() \u001b[39m==\u001b[39m \u001b[39m\"\u001b[39m\u001b[39mnltk\u001b[39m\u001b[39m\"\u001b[39m:\n\u001b[1;32m--> 876\u001b[0m     \u001b[39mreturn\u001b[39;00m find(path_, path \u001b[39m+\u001b[39;49m [\u001b[39m\"\u001b[39;49m\u001b[39m\"\u001b[39;49m])\u001b[39m.\u001b[39mopen()\n\u001b[0;32m    877\u001b[0m \u001b[39melif\u001b[39;00m protocol\u001b[39m.\u001b[39mlower() \u001b[39m==\u001b[39m \u001b[39m\"\u001b[39m\u001b[39mfile\u001b[39m\u001b[39m\"\u001b[39m:\n\u001b[0;32m    878\u001b[0m     \u001b[39m# urllib might not use mode='rb', so handle this one ourselves:\u001b[39;00m\n\u001b[0;32m    879\u001b[0m     \u001b[39mreturn\u001b[39;00m find(path_, [\u001b[39m\"\u001b[39m\u001b[39m\"\u001b[39m])\u001b[39m.\u001b[39mopen()\n",
      "File \u001b[1;32m~\\AppData\\Local\\Packages\\PythonSoftwareFoundation.Python.3.10_qbz5n2kfra8p0\\LocalCache\\local-packages\\Python310\\site-packages\\nltk\\data.py:583\u001b[0m, in \u001b[0;36mfind\u001b[1;34m(resource_name, paths)\u001b[0m\n\u001b[0;32m    581\u001b[0m sep \u001b[39m=\u001b[39m \u001b[39m\"\u001b[39m\u001b[39m*\u001b[39m\u001b[39m\"\u001b[39m \u001b[39m*\u001b[39m \u001b[39m70\u001b[39m\n\u001b[0;32m    582\u001b[0m resource_not_found \u001b[39m=\u001b[39m \u001b[39mf\u001b[39m\u001b[39m\"\u001b[39m\u001b[39m\\n\u001b[39;00m\u001b[39m{\u001b[39;00msep\u001b[39m}\u001b[39;00m\u001b[39m\\n\u001b[39;00m\u001b[39m{\u001b[39;00mmsg\u001b[39m}\u001b[39;00m\u001b[39m\\n\u001b[39;00m\u001b[39m{\u001b[39;00msep\u001b[39m}\u001b[39;00m\u001b[39m\\n\u001b[39;00m\u001b[39m\"\u001b[39m\n\u001b[1;32m--> 583\u001b[0m \u001b[39mraise\u001b[39;00m \u001b[39mLookupError\u001b[39;00m(resource_not_found)\n",
      "\u001b[1;31mLookupError\u001b[0m: \n**********************************************************************\n  Resource \u001b[93mpunkt\u001b[0m not found.\n  Please use the NLTK Downloader to obtain the resource:\n\n  \u001b[31m>>> import nltk\n  >>> nltk.download('punkt')\n  \u001b[0m\n  For more information see: https://www.nltk.org/data.html\n\n  Attempted to load \u001b[93mtokenizers/punkt/english.pickle\u001b[0m\n\n  Searched in:\n    - 'C:\\\\Users\\\\chara/nltk_data'\n    - 'C:\\\\Program Files\\\\WindowsApps\\\\PythonSoftwareFoundation.Python.3.10_3.10.2544.0_x64__qbz5n2kfra8p0\\\\nltk_data'\n    - 'C:\\\\Program Files\\\\WindowsApps\\\\PythonSoftwareFoundation.Python.3.10_3.10.2544.0_x64__qbz5n2kfra8p0\\\\share\\\\nltk_data'\n    - 'C:\\\\Program Files\\\\WindowsApps\\\\PythonSoftwareFoundation.Python.3.10_3.10.2544.0_x64__qbz5n2kfra8p0\\\\lib\\\\nltk_data'\n    - 'C:\\\\Users\\\\chara\\\\AppData\\\\Roaming\\\\nltk_data'\n    - 'C:\\\\nltk_data'\n    - 'D:\\\\nltk_data'\n    - 'E:\\\\nltk_data'\n    - ''\n**********************************************************************\n"
     ]
    }
   ],
   "source": [
    "s = userData.loc[1, 'vendor_name']\n",
    "word_tokenize(s)"
   ]
  },
  {
   "cell_type": "code",
   "execution_count": 3,
   "metadata": {},
   "outputs": [
    {
     "data": {
      "text/plain": [
       "0        72.90\n",
       "1        43.90\n",
       "2        32.23\n",
       "3       503.10\n",
       "4      1110.00\n",
       "        ...   \n",
       "494      29.30\n",
       "495       8.70\n",
       "496       2.50\n",
       "497      63.80\n",
       "498       5.88\n",
       "Name: amount, Length: 499, dtype: float64"
      ]
     },
     "execution_count": 3,
     "metadata": {},
     "output_type": "execute_result"
    }
   ],
   "source": [
    "Y = userData.loc[:,'amount']\n",
    "X = "
   ]
  },
  {
   "cell_type": "code",
   "execution_count": 12,
   "metadata": {},
   "outputs": [
    {
     "name": "stdout",
     "output_type": "stream",
     "text": [
      "  (0, 4)\t1.4054651081081644\n",
      "  (0, 1)\t1.0\n",
      "  (0, 6)\t1.0\n",
      "  (1, 3)\t2.09861228866811\n",
      "  (1, 5)\t1.4054651081081644\n",
      "  (1, 4)\t1.4054651081081644\n",
      "  (1, 1)\t1.0\n",
      "  (1, 6)\t1.0\n",
      "  (2, 0)\t2.09861228866811\n",
      "  (2, 2)\t2.09861228866811\n",
      "  (2, 5)\t1.4054651081081644\n",
      "  (2, 1)\t1.0\n",
      "  (2, 6)\t1.0\n"
     ]
    }
   ],
   "source": [
    "vectorizer = TfidfVectorizer(norm = False, smooth_idf = False) \n",
    "sentence = ['This is a test', 'this is the second test', 'this is the number 1 44 ']\n",
    "sentence_vectors = vectorizer.fit_transform(sentence)\n",
    "print(sentence_vectors)"
   ]
  }
 ],
 "metadata": {
  "kernelspec": {
   "display_name": "Python 3",
   "language": "python",
   "name": "python3"
  },
  "language_info": {
   "codemirror_mode": {
    "name": "ipython",
    "version": 3
   },
   "file_extension": ".py",
   "mimetype": "text/x-python",
   "name": "python",
   "nbconvert_exporter": "python",
   "pygments_lexer": "ipython3",
   "version": "3.10.9 (tags/v3.10.9:1dd9be6, Dec  6 2022, 20:01:21) [MSC v.1934 64 bit (AMD64)]"
  },
  "orig_nbformat": 4,
  "vscode": {
   "interpreter": {
    "hash": "0d3388d49d5c61fa50f3b927d879374732c00cbd32a7e41aee5e817ad5aa64d8"
   }
  }
 },
 "nbformat": 4,
 "nbformat_minor": 2
}
