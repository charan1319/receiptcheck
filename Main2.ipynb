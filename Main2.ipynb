{
 "cells": [
  {
   "cell_type": "code",
   "execution_count": 3,
   "metadata": {},
   "outputs": [],
   "source": [
    "from PIL import Image\n",
    "import matplotlib.pyplot as plt\n",
    "import cv2 \n",
    "import numpy as np\n",
    "import pandas as pd\n",
    "import re\n",
    "import ocr_parser\n",
    "import DateCleaner\n",
    "from fuzzywuzzy import fuzz"
   ]
  },
  {
   "cell_type": "code",
   "execution_count": 4,
   "metadata": {},
   "outputs": [],
   "source": [
    "userData = pd.read_csv('Bill.com/Users.csv')\n",
    "OCR_files = ocr_parser.parse_files()\n",
    "OCR_keys = sorted(list(OCR_files))\n",
    "date_mapping = DateCleaner.get_reformatted_strings()\n",
    "date_df = DateCleaner.create_pd_df(date_mapping)\n",
    "date_df = date_df.set_index(\"Document ID\")\n",
    "ocr_prices = pd.read_csv('ocr_totals.csv', index_col=\"Document\")[[\"Total\"]]\n",
    "user_locations = pd.read_csv(\"user_data_coords.csv\", index_col=\"Address\")[[\"Latitude\", \"Longitude\"]]\n",
    "ocr_locations = pd.read_csv(\"ocr_coords.csv\", index_col=\"Document\")[[\"Latitude\", \"Longitude\", \"Header\", \"Location\"]]"
   ]
  },
  {
   "cell_type": "code",
   "execution_count": 84,
   "metadata": {},
   "outputs": [],
   "source": [
    "def scoring_func(ocr_file_id):\n",
    "    scores_date = []\n",
    "    scores_price = []\n",
    "    for row in range(len(userData)):\n",
    "        entry_row = userData.iloc[row]\n",
    "\n",
    "        #Look for matching dates\n",
    "        ocr_date = date_df.loc[ocr_file_id].Dates\n",
    "        if (ocr_date != None):\n",
    "            match_dates = max(\n",
    "                fuzz.ratio(ocr_date[0], entry_row.date),\n",
    "                fuzz.ratio(ocr_date[1], entry_row.date)\n",
    "            )\n",
    "        else:\n",
    "            match_dates = 0     #Might need to change?\n",
    "\n",
    "        scores_date.append(match_dates)\n",
    "        \n",
    "        #Look for matching price amounts\n",
    "        ocr_price = ocr_prices.loc[ocr_file_id].Total\n",
    "        match_prices = 0\n",
    "        if (ocr_price != None):\n",
    "            if entry_row.amount != 0:\n",
    "                percentage_diff = abs(ocr_price - entry_row.amount) / entry_row.amount\n",
    "                if percentage_diff < 0.005:\n",
    "                    match_prices = percentage_diff\n",
    "            # ocr_price_formatted = format(np.around(ocr_price, decimals=2), '.2f').replace('.','')\n",
    "            # entry_price_formatted = format(np.around(entry_row.amount), '.2f').replace('.','')\n",
    "            # match_prices = fuzz.ratio(ocr_price_formatted, entry_price_formatted)\n",
    "        scores_price.append(match_prices)\n",
    "    \n",
    "    #Add distance measurement\n",
    "    distances = []\n",
    "    for row in range(len(userData)):\n",
    "        addressUsed = entry_row.vendor_address\n",
    "        user_coords = user_locations.loc[addressUsed].values\n",
    "        ocr_coords = ocr_locations.loc[ocr_file_id].values\n",
    "        readability = user_coords[0:1] - ocr_coords[0:1]\n",
    "        distances.append(np.dot(readability, readability))\n",
    "\n",
    "    #convert to arrays and deal with null points\n",
    "    scores_date = np.array(scores_date)\n",
    "    scores_date = np.nan_to_num(scores_date, nan = 0)\n",
    "    scores_price = np.array(scores_price)\n",
    "    scores_price = np.nan_to_num(scores_price, nan = 0)\n",
    "    distances = np.array(distances)  \n",
    "    distances = np.nan_to_num(distances, nan = np.inf)\n",
    "    \n",
    "    normalized_price = scores_price / np.linalg.norm(scores_price + 0.000001)\n",
    "    normalized_date = scores_date / np.linalg.norm(scores_date + 0.000001)\n",
    "    # distance_temp = np.log(distances)\n",
    "    distance_temp = 1/(distances + 0.00000001)\n",
    "    normalized_distance = distance_temp / (np.linalg.norm(distance_temp)+0.000001)\n",
    "    confidence_vector = normalized_price + normalized_date + normalized_distance + 2 * np.amax([normalized_date, normalized_distance], axis=0)\n",
    "    return confidence_vector"
   ]
  },
  {
   "cell_type": "code",
   "execution_count": 85,
   "metadata": {},
   "outputs": [],
   "source": [
    "#CREATE CONFIDENCE MATRIX\n",
    "\n",
    "confidence_matrix_raw = []\n",
    "\n",
    "for OCR_file in OCR_keys: \n",
    "    OCR = OCR_files[OCR_file]\n",
    "    date = date_df.loc[OCR_file].Dates\n",
    "    price = ocr_prices.loc[OCR_file].Total\n",
    "    confidence_vector = scoring_func(OCR_file)\n",
    "    confidence_matrix_raw.append(confidence_vector)"
   ]
  },
  {
   "cell_type": "code",
   "execution_count": 86,
   "metadata": {},
   "outputs": [],
   "source": [
    "confidence_matrix = np.array(confidence_matrix_raw)\n",
    "docIDs = OCR_keys[:]\n",
    "entries = list(userData.paymentid.values)\n",
    "entry2docID = {}"
   ]
  },
  {
   "cell_type": "code",
   "execution_count": 87,
   "metadata": {},
   "outputs": [],
   "source": [
    "while min(confidence_matrix.shape) != 0:\n",
    "    loc = np.unravel_index(np.argmax(confidence_matrix), confidence_matrix.shape)\n",
    "    docID = docIDs.pop(loc[0])\n",
    "    entry = entries.pop(loc[1])\n",
    "    entry2docID[entry] = docID\n",
    "    confidence_matrix = np.delete(confidence_matrix, loc[0], 0)\n",
    "    confidence_matrix = np.delete(confidence_matrix, loc[1], 1)"
   ]
  },
  {
   "cell_type": "code",
   "execution_count": 88,
   "metadata": {},
   "outputs": [
    {
     "data": {
      "text/plain": [
       "0.22044088176352705"
      ]
     },
     "execution_count": 88,
     "metadata": {},
     "output_type": "execute_result"
    }
   ],
   "source": [
    "counter = 0\n",
    "total = 0\n",
    "for entry, docID in entry2docID.items():\n",
    "    if userData[userData.paymentid == entry].iloc[0].documentid == docID:\n",
    "        counter += 1\n",
    "    total += 1 \n",
    "    \n",
    "counter/total"
   ]
  },
  {
   "cell_type": "code",
   "execution_count": 9,
   "metadata": {},
   "outputs": [
    {
     "data": {
      "text/plain": [
       "0.35070140280561124"
      ]
     },
     "execution_count": 9,
     "metadata": {},
     "output_type": "execute_result"
    }
   ],
   "source": [
    "counter = 0\n",
    "total = 0\n",
    "for entry, docID in entry2docID.items():\n",
    "    if userData[userData.paymentid == entry].iloc[0].documentid == docID:\n",
    "        counter += 1\n",
    "    total += 1 \n",
    "    \n",
    "counter/total"
   ]
  }
 ],
 "metadata": {
  "kernelspec": {
   "display_name": "Python 3",
   "language": "python",
   "name": "python3"
  },
  "language_info": {
   "codemirror_mode": {
    "name": "ipython",
    "version": 3
   },
   "file_extension": ".py",
   "mimetype": "text/x-python",
   "name": "python",
   "nbconvert_exporter": "python",
   "pygments_lexer": "ipython3",
   "version": "3.11.1"
  },
  "orig_nbformat": 4,
  "vscode": {
   "interpreter": {
    "hash": "2236c9fa90506e5feb294f3f3c710ff589142236348e2b6f694d3535f32852cc"
   }
  }
 },
 "nbformat": 4,
 "nbformat_minor": 2
}
