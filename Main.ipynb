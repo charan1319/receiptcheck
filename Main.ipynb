{
 "cells": [
  {
   "cell_type": "code",
   "execution_count": 47,
   "metadata": {},
   "outputs": [],
   "source": [
    "from PIL import Image\n",
    "import matplotlib.pyplot as plt\n",
    "import cv2 \n",
    "import numpy as np\n",
    "import pandas as pd\n",
    "import torch\n",
    "import re\n",
    "import ocr_parser\n",
    "import DateCleaner\n"
   ]
  },
  {
   "cell_type": "code",
   "execution_count": 202,
   "metadata": {},
   "outputs": [],
   "source": [
    "from fuzzywuzzy import fuzz"
   ]
  },
  {
   "cell_type": "code",
   "execution_count": null,
   "metadata": {},
   "outputs": [],
   "source": [
    "userData = pd.read_csv('Bill.com/Users.csv')\n",
    "userData "
   ]
  },
  {
   "cell_type": "code",
   "execution_count": 213,
   "metadata": {},
   "outputs": [
    {
     "data": {
      "text/plain": [
       "73"
      ]
     },
     "execution_count": 213,
     "metadata": {},
     "output_type": "execute_result"
    }
   ],
   "source": [
    "test1 = 'this is the longer sentence with no errors'\n",
    "test2 = 'this is sentece n errors'\n",
    "\n",
    "check = fuzz.ratio(test1,test2)\n",
    "\n",
    "check"
   ]
  },
  {
   "cell_type": "code",
   "execution_count": null,
   "metadata": {},
   "outputs": [],
   "source": [
    "#Get dataframe of dataframes containing OCR files \n",
    "OCR_files = ocr_parser.parse_files()\n",
    "OCR_files"
   ]
  },
  {
   "cell_type": "code",
   "execution_count": 50,
   "metadata": {},
   "outputs": [],
   "source": [
    "#GET CLEAN DATES FROM OCR DATA\n",
    "mapping = DateCleaner.get_reformatted_strings()\n",
    "date_df = DateCleaner.create_pd_df(mapping)\n"
   ]
  },
  {
   "cell_type": "code",
   "execution_count": null,
   "metadata": {},
   "outputs": [],
   "source": [
    "#Take all important features of userData and put into set to prepare for scoring function\n",
    "userData_sets = []\n",
    "for row in range(userData.shape[0]):\n",
    "    temp = set(userData.loc[row, 'vendor_name'].split())\n",
    "    temp2 = temp.union(set(userData.loc[row, 'vendor_address'].replace('.','').replace(',','AttributeError').split()))\n",
    "    # temp3 = temp2.union(set((userData.loc[row, 'amount'].astype(str) + ' ' + userData.loc[row,'date']).split()))\n",
    "    temp3 = temp2.union(set(userData.loc[row, 'amount'].astype(str)))\n",
    "    userData_sets.append(temp3)\n",
    "    \n",
    "userData_sets\n"
   ]
  },
  {
   "cell_type": "code",
   "execution_count": 361,
   "metadata": {},
   "outputs": [
    {
     "data": {
      "text/plain": [
       "0        72.90\n",
       "1        43.90\n",
       "2        32.23\n",
       "3       503.10\n",
       "4      1110.00\n",
       "        ...   \n",
       "494      29.30\n",
       "495       8.70\n",
       "496       2.50\n",
       "497      63.80\n",
       "498       5.88\n",
       "Name: amount, Length: 499, dtype: float64"
      ]
     },
     "execution_count": 361,
     "metadata": {},
     "output_type": "execute_result"
    }
   ],
   "source": [
    "#LOAD IN PRICES FROM OCR AND USERDATA\n",
    "ocr_prices = \n",
    "userData_prices = userData.amount\n",
    "userData_prices"
   ]
  },
  {
   "cell_type": "code",
   "execution_count": null,
   "metadata": {},
   "outputs": [],
   "source": [
    "#LOAD IN COORDINATE DATA FOR USER DATA AND OCR\n",
    "\n",
    "user_locations = pd.read_csv(\"user_data_coords.csv\", index_col=\"Address\")[[\"Latitude\", \"Longitude\"]]\n",
    "ocr_locations = pd.read_csv(\"ocr_coords.csv\", index_col=\"Document\")[[\"Latitude\", \"Longitude\", \"Header\", \"Location\"]]"
   ]
  },
  {
   "cell_type": "code",
   "execution_count": 368,
   "metadata": {},
   "outputs": [
    {
     "data": {
      "text/plain": [
       "0"
      ]
     },
     "execution_count": 368,
     "metadata": {},
     "output_type": "execute_result"
    }
   ],
   "source": [
    "testa = [13, 42, 13, 91,29]\n",
    "testa = np.array(testa)\n",
    "testing = np.where(testa == 13)[0] * 2\n",
    "testing[0]\n"
   ]
  },
  {
   "cell_type": "code",
   "execution_count": 359,
   "metadata": {},
   "outputs": [],
   "source": [
    "#TRYING LEVENSHTEIN DISTANCE FOR DATES\n",
    "\n",
    "#SCORE BY SIMILARITY/MATCHES\n",
    "\n",
    "#Put all text in receipt in a set \n",
    "def get_receipt_text(OCR):\n",
    "    step1 = OCR.loc[:, 'TEXT'].astype(str).tolist()\n",
    "    step2 = ' '.join(step1)\n",
    "    OCR_set = set(step2.replace('(','').replace(')','').replace('.','').split())\n",
    "    return OCR_set\n",
    "\n",
    "#Calculate the similarity scores between receipt and each of the listings\n",
    "#DOESN'T ACTUALLY ONLY SCORE -- ALSO FINDS INDEX \n",
    "def scoring_func(userData_prices, userData_dates, OCR_set, date, user_locations, ocr_locations, fileCode):\n",
    "    # scores_text = []\n",
    "    scores_date = []\n",
    "    scores_price = []\n",
    "    for row in range(len(userData_dates)):\n",
    "        #Look for matching dates\n",
    "        if (date != None):\n",
    "            match_dates = max(fuzz.ratio(date[0],userData_dates[row]), fuzz.ratio(date[1], userData_dates[row]))\n",
    "        else:\n",
    "            match_dates = 0     #Might need to change?\n",
    "        scores_date.append(match_dates)\n",
    "        \n",
    "        #Look for matching price amounts\n",
    "        if (price != None): \n",
    "            match_prices = max(fuzz.ratio(price, userData_prices[row]))\n",
    "        else: \n",
    "            match_prices = 0\n",
    "        scores_price.append(match_prices)\n",
    "        \n",
    "    scores_date = np.array(scores_date)\n",
    "    if(len(np.where(scores_date == 100)[0]) == 1):\n",
    "        return np.where(scores_date == 100)[0][0]      #NOTE -- COULD IDENTIFY INCORRECTLY IF OCR MISTAKE LEADS TO A \n",
    "                                #WRONG BUT EXISTING DATE \n",
    "    # if(len(np.where(scores_date == 100)[0]) > 1):\n",
    "    #     right_dates = np.where(scores_date == 100)\n",
    "    \n",
    "    \n",
    "    else: \n",
    "        #Add distance measurement\n",
    "        distances = []\n",
    "        for row in range(len(userData_dates)):\n",
    "            addressUsed = userData.iloc[row].vendor_address\n",
    "            user_coords = user_locations.loc[addressUsed].values\n",
    "            ocr_coords = ocr_locations.loc[fileCode].values\n",
    "            readability = user_coords[0:1] - ocr_coords[0:1]\n",
    "            distances.append(np.dot(readability, readability))\n",
    "\n",
    "        distances = np.array(distances)  \n",
    "        # print('second check')  \n",
    "        # print(distances)\n",
    "        distances = np.nan_to_num(distances, nan = np.inf)\n",
    "        # return (np.argmin(distances))\n",
    "        \n",
    "        \n",
    "        return np.argmax(scores_date * 1/(distances+0.001))       #NOTE -- COULD IDENTIFY INCORRECTLY IF OCR MISTAKE LEADS TO A \n",
    "                                                #WRONG BUT EXISTING DATE\n",
    "                                                \n",
    "\n",
    "#display the listing with the strongest match\n",
    "def find_paymentID(userData, scores):\n",
    "    return userData.iloc[np.argmax(scores)].paymentid\n",
    "def find_paymentID2(userData, score_loc):\n",
    "    return userData.iloc[score_loc].paymentid"
   ]
  },
  {
   "cell_type": "code",
   "execution_count": 358,
   "metadata": {},
   "outputs": [
    {
     "name": "stdout",
     "output_type": "stream",
     "text": [
      "100\n",
      "0.4804270462633452\n"
     ]
    }
   ],
   "source": [
    "#TESTING ACCURACY \n",
    "correct = 0\n",
    "counter = 0\n",
    "wrongIDs = []\n",
    "wrongDates = []\n",
    "wrong_guesses = []\n",
    "for fileCode in OCR_files.keys():                                       #filecode from OCR\n",
    "    OCR = OCR_files[fileCode]\n",
    "    OCR_set = get_receipt_text(OCR)\n",
    "    # temp = date_df[date_df['Document ID'] == fileCode]\n",
    "    date = date_df[date_df['Document ID'] == fileCode].iloc[0].Dates    #date from OCR\n",
    "    scores = scoring_func(userData_sets, userData_dates,OCR_set, date, user_locations, ocr_locations, fileCode)\n",
    "    # print(scores)\n",
    "    payment_ID = find_paymentID2(userData, scores)\n",
    "    # payment_ID = find_paymentID(userData, scores)            #finds index of highest match and \n",
    "                                                             #returns the associated paymentID\n",
    "    # guessed_documentID = find_paymentID(userData, scores)\n",
    "    # print(payment_ID)\n",
    "    # print(userData.paymentid)\n",
    "    guessed_docID = userData[userData.paymentid == payment_ID].iloc[0].documentid\n",
    "    \n",
    "    counter += 1\n",
    "    if(fileCode == guessed_docID):\n",
    "        correct += 1 \n",
    "    else: \n",
    "        wrongIDs.append(fileCode)\n",
    "        wrongDates.append(date)\n",
    "        wrong_guesses.append(guessed_docID)\n",
    "        \n",
    "\n",
    "print(correct/counter)"
   ]
  },
  {
   "cell_type": "code",
   "execution_count": 116,
   "metadata": {},
   "outputs": [
    {
     "name": "stdout",
     "output_type": "stream",
     "text": [
      "['2018-4-17', '2018-17-4']\n"
     ]
    },
    {
     "data": {
      "text/plain": [
       "1"
      ]
     },
     "execution_count": 116,
     "metadata": {},
     "output_type": "execute_result"
    }
   ],
   "source": [
    "check1 = df_check[df_check['Wrong IDs'] == '00d0608126101'].iloc[0]['Wrong Dates']\n",
    "print(check1)\n",
    "location = userData[userData.documentid == '00d0608126101'].index\n",
    "location\n",
    "match_dates = int(check1[0] == userData_dates[location]) + int(check1[1] == userData_dates[location])\n",
    "match_dates"
   ]
  },
  {
   "cell_type": "code",
   "execution_count": 342,
   "metadata": {},
   "outputs": [
    {
     "data": {
      "text/plain": [
       "361"
      ]
     },
     "execution_count": 342,
     "metadata": {},
     "output_type": "execute_result"
    }
   ],
   "source": [
    "len(wrong_guesses)"
   ]
  },
  {
   "cell_type": "code",
   "execution_count": null,
   "metadata": {},
   "outputs": [],
   "source": [
    "#CHECK ONE\n",
    "\n",
    "#Get date from OCR \n",
    "filecode = '00d0102367243'\n",
    "OCR_all_dates = date_df.Dates\n",
    "date = OCR_all_dates[4]\n",
    "# print(date)\n",
    "\n",
    "#Get text from OCR\n",
    "OCR = OCR_files[filecode]\n",
    "OCR_set = get_receipt_text(OCR)\n",
    "userData_dates = userData.date\n",
    "\n",
    "#Find matches between OCR data and user data, then guess docID\n",
    "scores = scoring_func(userData_sets, userData_dates, OCR_set, date)\n",
    "payment_ID = find_paymentID(userData, scores)\n",
    "guessed_docID = userData[userData.paymentid == payment_ID].iloc[0].documentid\n",
    "print(guessed_docID)\n",
    "correct_docID = pd.read_csv('new_formatted.csv')['Document ID']\n",
    "print(userData[userData.documentid == guessed_docID])\n",
    "userData[userData.paymentid == payment_ID]"
   ]
  },
  {
   "cell_type": "code",
   "execution_count": 343,
   "metadata": {},
   "outputs": [
    {
     "data": {
      "text/html": [
       "<div>\n",
       "<style scoped>\n",
       "    .dataframe tbody tr th:only-of-type {\n",
       "        vertical-align: middle;\n",
       "    }\n",
       "\n",
       "    .dataframe tbody tr th {\n",
       "        vertical-align: top;\n",
       "    }\n",
       "\n",
       "    .dataframe thead th {\n",
       "        text-align: right;\n",
       "    }\n",
       "</style>\n",
       "<table border=\"1\" class=\"dataframe\">\n",
       "  <thead>\n",
       "    <tr style=\"text-align: right;\">\n",
       "      <th></th>\n",
       "      <th>Wrong IDs</th>\n",
       "      <th>Wrong Dates</th>\n",
       "      <th>Wrong Guesses</th>\n",
       "    </tr>\n",
       "  </thead>\n",
       "  <tbody>\n",
       "    <tr>\n",
       "      <th>0</th>\n",
       "      <td>00d0815885891</td>\n",
       "      <td>[2018-4-16, 2018-16-4]</td>\n",
       "      <td>00d0981184214</td>\n",
       "    </tr>\n",
       "    <tr>\n",
       "      <th>1</th>\n",
       "      <td>00d0797433528</td>\n",
       "      <td>[None, None]</td>\n",
       "      <td>00d0243046961</td>\n",
       "    </tr>\n",
       "    <tr>\n",
       "      <th>2</th>\n",
       "      <td>00d0508747957</td>\n",
       "      <td>[2018-4-3, 2018-3-4]</td>\n",
       "      <td>00d0191077139</td>\n",
       "    </tr>\n",
       "    <tr>\n",
       "      <th>3</th>\n",
       "      <td>00d0188523936</td>\n",
       "      <td>[2017-5-10, 2017-10-5]</td>\n",
       "      <td>00d0194076657</td>\n",
       "    </tr>\n",
       "    <tr>\n",
       "      <th>4</th>\n",
       "      <td>00d0675832982</td>\n",
       "      <td>[2018-3-20, 2018-20-3]</td>\n",
       "      <td>00d0799986048</td>\n",
       "    </tr>\n",
       "    <tr>\n",
       "      <th>...</th>\n",
       "      <td>...</td>\n",
       "      <td>...</td>\n",
       "      <td>...</td>\n",
       "    </tr>\n",
       "    <tr>\n",
       "      <th>356</th>\n",
       "      <td>00d0389135415</td>\n",
       "      <td>[2018-3-12, 2018-12-3]</td>\n",
       "      <td>00d0243046961</td>\n",
       "    </tr>\n",
       "    <tr>\n",
       "      <th>357</th>\n",
       "      <td>00d0453489586</td>\n",
       "      <td>[2018-4-22, 2018-22-4]</td>\n",
       "      <td>00d0267909555</td>\n",
       "    </tr>\n",
       "    <tr>\n",
       "      <th>358</th>\n",
       "      <td>00d0314913072</td>\n",
       "      <td>[2017-2-9, 2017-9-2]</td>\n",
       "      <td>00d0674219107</td>\n",
       "    </tr>\n",
       "    <tr>\n",
       "      <th>359</th>\n",
       "      <td>00d0292723088</td>\n",
       "      <td>[2018-3-2, 2018-2-3]</td>\n",
       "      <td>00d0624439175</td>\n",
       "    </tr>\n",
       "    <tr>\n",
       "      <th>360</th>\n",
       "      <td>00d0870184164</td>\n",
       "      <td>[None, None]</td>\n",
       "      <td>00d0841246769</td>\n",
       "    </tr>\n",
       "  </tbody>\n",
       "</table>\n",
       "<p>361 rows × 3 columns</p>\n",
       "</div>"
      ],
      "text/plain": [
       "         Wrong IDs             Wrong Dates  Wrong Guesses\n",
       "0    00d0815885891  [2018-4-16, 2018-16-4]  00d0981184214\n",
       "1    00d0797433528            [None, None]  00d0243046961\n",
       "2    00d0508747957    [2018-4-3, 2018-3-4]  00d0191077139\n",
       "3    00d0188523936  [2017-5-10, 2017-10-5]  00d0194076657\n",
       "4    00d0675832982  [2018-3-20, 2018-20-3]  00d0799986048\n",
       "..             ...                     ...            ...\n",
       "356  00d0389135415  [2018-3-12, 2018-12-3]  00d0243046961\n",
       "357  00d0453489586  [2018-4-22, 2018-22-4]  00d0267909555\n",
       "358  00d0314913072    [2017-2-9, 2017-9-2]  00d0674219107\n",
       "359  00d0292723088    [2018-3-2, 2018-2-3]  00d0624439175\n",
       "360  00d0870184164            [None, None]  00d0841246769\n",
       "\n",
       "[361 rows x 3 columns]"
      ]
     },
     "execution_count": 343,
     "metadata": {},
     "output_type": "execute_result"
    }
   ],
   "source": [
    "# wrong_guess_dates = \n",
    "p = {'Wrong IDs': wrongIDs, 'Wrong Dates': wrongDates, 'Wrong Guesses': wrong_guesses}\n",
    "df_check = pd.DataFrame(data=p)\n",
    "df_check"
   ]
  },
  {
   "cell_type": "code",
   "execution_count": 340,
   "metadata": {},
   "outputs": [
    {
     "name": "stdout",
     "output_type": "stream",
     "text": [
      "2018-3-20\n"
     ]
    },
    {
     "data": {
      "text/plain": [
       "100"
      ]
     },
     "execution_count": 340,
     "metadata": {},
     "output_type": "execute_result"
    }
   ],
   "source": [
    "date_from_id = df_check.iloc[4]['Wrong Dates']\n",
    "date_from_id\n",
    "correct_date = userData[userData.documentid == '00d0675832982'].iloc[0].date\n",
    "print(correct_date)\n",
    "max(fuzz.ratio(date_from_id[0], correct_date), fuzz.ratio(date_from_id[1], correct_date))"
   ]
  },
  {
   "attachments": {},
   "cell_type": "markdown",
   "metadata": {},
   "source": [
    "Only dates: 0.32028 \n",
    "Only text: 0.32562\n",
    "Both: 0.32562"
   ]
  },
  {
   "cell_type": "code",
   "execution_count": 118,
   "metadata": {},
   "outputs": [
    {
     "data": {
      "text/plain": [
       "562"
      ]
     },
     "execution_count": 118,
     "metadata": {},
     "output_type": "execute_result"
    }
   ],
   "source": [
    "len(OCR_files)"
   ]
  },
  {
   "cell_type": "code",
   "execution_count": 224,
   "metadata": {},
   "outputs": [],
   "source": [
    "#OLD METHOD\n",
    "\n",
    "#SCORE BY SIMILARITY/MATCHES\n",
    "\n",
    "#Put all text in receipt in a set \n",
    "def get_receipt_text(OCR):\n",
    "    step1 = OCR.loc[:, 'TEXT'].astype(str).tolist()\n",
    "    step2 = ' '.join(step1)\n",
    "    OCR_set = set(step2.replace('(','').replace(')','').replace('.','').split())\n",
    "    return OCR_set\n",
    "\n",
    "#Calculate the similarity scores between receipt and each of the listings\n",
    "def scoring_func(userData_sets, userData_dates, OCR_set, date, user_locations, ocr_locations, fileCode):\n",
    "    # scores_text = []\n",
    "    scores_date = []\n",
    "    score_counter = 0\n",
    "    for row in range(len(userData_dates)):\n",
    "        #Look for matching dates\n",
    "        if (date != None):\n",
    "            match_dates = int(date[0] == userData_dates[row]) + int(date[1] == userData_dates[row])\n",
    "        else:\n",
    "            match_dates = 0     #Change? \n",
    "        scores_date.append(match_dates)\n",
    "        \n",
    "    if(sum(scores_date) == 1):\n",
    "        return scores_date      #NOTE -- COULD IDENTIFY INCORRECTLY IF OCR MISTAKE LEADS TO A \n",
    "                                #WRONG BUT EXISTING DATE \n",
    "    \n",
    "    else: \n",
    "        #Add distance measurement\n",
    "        distances = []\n",
    "        for row in range(len(userData_dates)):\n",
    "            addressUsed = userData.iloc[row].vendor_address\n",
    "            user_coords = user_locations.loc[addressUsed].values\n",
    "            ocr_coords = ocr_locations.loc[fileCode].values\n",
    "            distances.append(np.dot(user_coords[0:1] - ocr_coords[0:1:],user_coords[0:1] - ocr_coords[0:1]))\n",
    "       \n",
    "        distances = np.array(distances)    \n",
    "        return (scores_date * 1/(distances+0.001) * 10)        #NOTE -- COULD IDENTIFY INCORRECTLY IF OCR MISTAKE LEADS TO A \n",
    "                                                #WRONG BUT EXISTING DATE\n",
    "              \n",
    "    # overlap_text = len(userData_sets[row].intersection(OCR_set))\n",
    "    # scores_text.append(overlap_text)\n",
    "    \n",
    "    # print(scores_date)\n",
    "\n",
    "    return(0 *scores_text + 1*scores_date)\n",
    "\n",
    "#display the listing with the strongest match\n",
    "def find_paymentID(userData, scores):\n",
    "    return userData.iloc[np.argmax(scores)].paymentid"
   ]
  },
  {
   "cell_type": "code",
   "execution_count": 52,
   "metadata": {},
   "outputs": [
    {
     "name": "stdout",
     "output_type": "stream",
     "text": [
      "562\n",
      "286\n"
     ]
    }
   ],
   "source": [
    "y = date_df.Dates.apply(lambda lst: tuple(lst) if lst and lst[0] else None).values\n",
    "print(len(y))\n",
    "print(len(set(y)))\n",
    "\n",
    "x = date_df.Dates.apply(lambda lst: sorted(lst)[0] if lst and lst[0] else None).values\n",
    "print(len(x))\n",
    "print(len(set(x)))"
   ]
  },
  {
   "cell_type": "code",
   "execution_count": null,
   "metadata": {},
   "outputs": [],
   "source": [
    "for r in range(len(OCR)):\n",
    "    print(OCR.iloc[r].TEXT)"
   ]
  },
  {
   "cell_type": "code",
   "execution_count": 90,
   "metadata": {},
   "outputs": [
    {
     "data": {
      "image/png": "[encoded data removed]",
      "text/plain": [
       "<Figure size 640x480 with 1 Axes>"
      ]
     },
     "metadata": {},
     "output_type": "display_data"
    }
   ],
   "source": [
    "image = Image.open(\"Bill.com/img/00d0223498663.jpg\")\n",
    "image = np.array(image)\n",
    "plt.imshow(image); plt.axis(False);"
   ]
  },
  {
   "cell_type": "markdown",
   "metadata": {},
   "source": []
  },
  {
   "cell_type": "code",
   "execution_count": null,
   "metadata": {},
   "outputs": [],
   "source": [
    "OCR_strings = panda\n",
    "for row in range(OCR.shape()):\n",
    "    strings = {}\n",
    "    strings.add(OCR.amount, OCR.date, OCR.vendor_name, OCR.vendor_address)\n",
    "    OCR_strings\n"
   ]
  },
  {
   "cell_type": "code",
   "execution_count": 112,
   "metadata": {},
   "outputs": [],
   "source": [
    "# test_file = open(\"test.txt\", 'r')\n",
    "# text = test_file.read()\n",
    "# dates = re.findall('(\\d+/\\d+/\\d+)', text)\n",
    "# OCR_STRING = OCR.applymap(str)\n",
    "OCR_STRING = OCR.to_string()\n",
    "date_re = \"\\d{2}[/-]\\d{2}[/-]\\d{4}\"\n",
    "dates = re.findall(date_re, OCR_STRING)"
   ]
  }
 ],
 "metadata": {
  "kernelspec": {
   "display_name": "Python 3",
   "language": "python",
   "name": "python3"
  },
  "language_info": {
   "codemirror_mode": {
    "name": "ipython",
    "version": 3
   },
   "file_extension": ".py",
   "mimetype": "text/x-python",
   "name": "python",
   "nbconvert_exporter": "python",
   "pygments_lexer": "ipython3",
   "version": "3.10.9"
  },
  "orig_nbformat": 4,
  "vscode": {
   "interpreter": {
    "hash": "0d3388d49d5c61fa50f3b927d879374732c00cbd32a7e41aee5e817ad5aa64d8"
   }
  }
 },
 "nbformat": 4,
 "nbformat_minor": 2
}
