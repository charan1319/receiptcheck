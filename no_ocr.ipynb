{
 "cells": [
  {
   "cell_type": "code",
   "execution_count": 19,
   "metadata": {},
   "outputs": [],
   "source": [
    "import os\n",
    "import shutil"
   ]
  },
  {
   "cell_type": "code",
   "execution_count": 3,
   "metadata": {},
   "outputs": [],
   "source": [
    "images = set()\n",
    "for name in os.listdir(\"Bill.com/img/\"):\n",
    "    if name.endswith(\".jpg\"):\n",
    "        images.add(name[:-4])"
   ]
  },
  {
   "cell_type": "code",
   "execution_count": 4,
   "metadata": {},
   "outputs": [],
   "source": [
    "OCRs = set()\n",
    "for name in os.listdir(\"Bill.com/ocr/\"):\n",
    "    if name.endswith(\".csv\"):\n",
    "        OCRs.add(name[:-4])"
   ]
  },
  {
   "cell_type": "code",
   "execution_count": 33,
   "metadata": {},
   "outputs": [],
   "source": [
    "bad_images = list(filter(lambda x: x[-1] != \")\", images - OCRs))"
   ]
  },
  {
   "cell_type": "code",
   "execution_count": 35,
   "metadata": {},
   "outputs": [],
   "source": [
    "for image in bad_images:\n",
    "    shutil.copyfile(f\"Bill.com/img/{image}.jpg\", f\"Bill.com/bad_images/{image}.jpg\")"
   ]
  }
 ],
 "metadata": {
  "kernelspec": {
   "display_name": "Python 3",
   "language": "python",
   "name": "python3"
  },
  "language_info": {
   "codemirror_mode": {
    "name": "ipython",
    "version": 3
   },
   "file_extension": ".py",
   "mimetype": "text/x-python",
   "name": "python",
   "nbconvert_exporter": "python",
   "pygments_lexer": "ipython3",
   "version": "3.11.1"
  },
  "orig_nbformat": 4,
  "vscode": {
   "interpreter": {
    "hash": "2236c9fa90506e5feb294f3f3c710ff589142236348e2b6f694d3535f32852cc"
   }
  }
 },
 "nbformat": 4,
 "nbformat_minor": 2
}
